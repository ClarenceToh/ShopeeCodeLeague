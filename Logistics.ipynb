{
  "nbformat": 4,
  "nbformat_minor": 0,
  "metadata": {
    "colab": {
      "name": "Logistics.ipynb",
      "provenance": [],
      "collapsed_sections": []
    },
    "kernelspec": {
      "name": "python3",
      "display_name": "Python 3"
    },
    "accelerator": "GPU"
  },
  "cells": [
    {
      "cell_type": "code",
      "metadata": {
        "id": "kOGNaWTEouW8",
        "colab_type": "code",
        "colab": {}
      },
      "source": [
        "!pip install -U -q kaggle\n",
        "!mkdir -p ~/.kaggle"
      ],
      "execution_count": null,
      "outputs": []
    },
    {
      "cell_type": "code",
      "metadata": {
        "id": "QiYA9Zwyr48O",
        "colab_type": "code",
        "colab": {}
      },
      "source": [
        "from google.colab import files\n",
        "files.upload()"
      ],
      "execution_count": null,
      "outputs": []
    },
    {
      "cell_type": "code",
      "metadata": {
        "id": "Omgbvf_lsFE1",
        "colab_type": "code",
        "colab": {
          "base_uri": "https://localhost:8080/",
          "height": 469
        },
        "outputId": "0d465f0b-952b-4e1a-9da4-26e9224e610d"
      },
      "source": [
        "!cp kaggle.json ~/.kaggle/\n",
        "!kaggle datasets list"
      ],
      "execution_count": null,
      "outputs": [
        {
          "output_type": "stream",
          "text": [
            "Warning: Your Kaggle API key is readable by other users on this system! To fix this, you can run 'chmod 600 /root/.kaggle/kaggle.json'\n",
            "Warning: Looks like you're using an outdated API Version, please consider updating (server 1.5.6 / client 1.5.4)\n",
            "ref                                                           title                                                size  lastUpdated          downloadCount  \n",
            "------------------------------------------------------------  --------------------------------------------------  -----  -------------------  -------------  \n",
            "allen-institute-for-ai/CORD-19-research-challenge             COVID-19 Open Research Dataset Challenge (CORD-19)    3GB  2020-07-06 18:49:31          87234  \n",
            "roche-data-science-coalition/uncover                          UNCOVER COVID-19 Challenge                          179MB  2020-05-21 18:57:53          15261  \n",
            "oleksastepaniuk/prozorro-public-procurement-dataset           ProZorro. Ukrainian public procurement dataset      448MB  2020-04-15 17:09:37             32  \n",
            "nareshbhat/health-care-data-set-on-heart-attack-possibility   Health care: Data set on Heart attack possibility     3KB  2020-06-25 07:11:26            762  \n",
            "imdevskp/cholera-dataset                                      Cholera Dataset                                      21KB  2020-07-01 17:28:18            213  \n",
            "imdevskp/malaria-dataset                                      Malaria Dataset                                      52KB  2020-07-01 17:28:22            278  \n",
            "navinmundhra/daily-power-generation-in-india-20172020         Daily Power Generation in India (2017-2020)          63KB  2020-06-29 17:13:29            319  \n",
            "rohanrao/chai-time-data-science                               Chai Time Data Science | CTDS.Show                    3MB  2020-06-20 23:01:09            184  \n",
            "mrmorj/data-police-shootings                                  Data Police shootings                               130KB  2020-06-17 18:19:37            693  \n",
            "mathchi/online-retail-data-set-from-ml-repository             Online Retail Data Set from ML Repository             1KB  2020-07-05 18:53:40            152  \n",
            "miguelaenlle/massive-stock-news-analysis-db-for-nlpbacktests  Daily Financial News for 6000+ Stocks               210MB  2020-07-04 04:06:43            285  \n",
            "mathurinache/world-happiness-report                           World Happiness Report up to 2020                    54KB  2020-06-30 15:26:17            859  \n",
            "dorianlazar/medium-articles-dataset                           Medium articles dataset                               1GB  2020-06-30 14:13:56             95  \n",
            "parulpandey/covid19-clinical-trials-dataset                   COVID-19 Clinical Trials dataset                     12MB  2020-07-09 10:02:47            203  \n",
            "bahramjannesarr/goodreads-book-datasets-10m                   Goodreads Book Datasets With User Rating 10M        151MB  2020-07-10 14:25:27            188  \n",
            "benroshan/factors-affecting-campus-placement                  Campus Recruitment                                    5KB  2020-04-11 11:09:02          10727  \n",
            "bobbyscience/league-of-legends-diamond-ranked-games-10-min    League of Legends Diamond Ranked Games (10 min)     539KB  2020-04-13 13:53:02           4416  \n",
            "fireballbyedimyrnmom/us-counties-covid-19-dataset             US counties COVID 19 dataset                          3MB  2020-07-10 11:21:37           9801  \n",
            "divyansh22/flight-delay-prediction                            January Flight Delay Prediction                      23MB  2020-04-14 13:15:41           3657  \n",
            "clmentbisaillon/fake-and-real-news-dataset                    Fake and real news dataset                           41MB  2020-03-26 18:51:15           9154  \n"
          ],
          "name": "stdout"
        }
      ]
    },
    {
      "cell_type": "code",
      "metadata": {
        "id": "NK1K-JO_srZ2",
        "colab_type": "code",
        "colab": {
          "base_uri": "https://localhost:8080/",
          "height": 199
        },
        "outputId": "162bbb45-0890-4d93-f59b-79fee5e45114"
      },
      "source": [
        "# !kaggle competitions download -c house-prices-advanced-regression-techniques\n",
        "!kaggle competitions download -c open-shopee-code-league-logistic\n",
        "!ls"
      ],
      "execution_count": null,
      "outputs": [
        {
          "output_type": "stream",
          "text": [
            "Warning: Your Kaggle API key is readable by other users on this system! To fix this, you can run 'chmod 600 /root/.kaggle/kaggle.json'\n",
            "Warning: Looks like you're using an outdated API Version, please consider updating (server 1.5.6 / client 1.5.4)\n",
            "Downloading SLA_matrix.xlsx to /content\n",
            "  0% 0.00/9.01k [00:00<?, ?B/s]\n",
            "100% 9.01k/9.01k [00:00<00:00, 8.52MB/s]\n",
            "Downloading delivery_orders_march.csv.zip to /content\n",
            " 99% 378M/381M [00:06<00:00, 75.3MB/s]\n",
            "100% 381M/381M [00:06<00:00, 58.9MB/s]\n",
            "delivery_orders_march.csv.zip  kaggle.json  sample_data  SLA_matrix.xlsx\n"
          ],
          "name": "stdout"
        }
      ]
    },
    {
      "cell_type": "code",
      "metadata": {
        "id": "UIMJbkexsxGT",
        "colab_type": "code",
        "colab": {
          "base_uri": "https://localhost:8080/",
          "height": 73
        },
        "outputId": "f11f54eb-5106-4294-ff23-0e2ec308c8f5"
      },
      "source": [
        "# import specific libraries\n",
        "# load CSVs\n",
        "import numpy as np \n",
        "import pandas as pd \n",
        "import seaborn as sns\n",
        "import matplotlib.pyplot as plt\n",
        "%matplotlib inline"
      ],
      "execution_count": null,
      "outputs": [
        {
          "output_type": "stream",
          "text": [
            "/usr/local/lib/python3.6/dist-packages/statsmodels/tools/_testing.py:19: FutureWarning: pandas.util.testing is deprecated. Use the functions in the public API at pandas.testing instead.\n",
            "  import pandas.util.testing as tm\n"
          ],
          "name": "stderr"
        }
      ]
    },
    {
      "cell_type": "code",
      "metadata": {
        "id": "iY7FD0riEdEF",
        "colab_type": "code",
        "colab": {}
      },
      "source": [
        "SLA_matrix = pd.read_excel('SLA_matrix.xlsx')\n",
        "delivery_orders_march = pd.read_csv('delivery_orders_march.csv.zip')"
      ],
      "execution_count": null,
      "outputs": []
    },
    {
      "cell_type": "code",
      "metadata": {
        "id": "7xVMxKvdnkVw",
        "colab_type": "code",
        "colab": {}
      },
      "source": [
        "import time\n",
        "import datetime\n",
        "def date(input):\n",
        "    date_time_str = time.strftime('%Y-%m-%d %H:%M:%S', time.localtime(input))\n",
        "    final = date_time_str.split(' ')[0]\n",
        "    date_time_obj = datetime.datetime.strptime(final, '%Y-%m-%d')\n",
        "    return date_time_obj\n",
        "def day_diff(att, pic):\n",
        "    attempt = date(att)\n",
        "    pick = date(pic)\n",
        "    days = attempt - pick\n",
        "    return days.days\n",
        "def str_date(input):\n",
        "    date_time_str = time.strftime('%Y-%m-%d %H:%M:%S', time.localtime(input))\n",
        "    final = date_time_str.split(' ')[0]\n",
        "    return final\n",
        "import numpy as np\n",
        "def business_days(inn,out):\n",
        "    days = np.busday_count(inn,out,weekmask=[1,1,1,1,1,1,0],holidays=['2020-03-08','2020-03-25','2020-03-30','2020-03-31'])\n",
        "    return int(days)"
      ],
      "execution_count": null,
      "outputs": []
    },
    {
      "cell_type": "code",
      "metadata": {
        "id": "ZoEox-5chv8a",
        "colab_type": "code",
        "colab": {}
      },
      "source": [
        "def location(input):\n",
        "    info = input[-15:]\n",
        "    if 'Metro Manila' in info or 'metro manila' in info or 'manila' or 'Manila' in info:\n",
        "        return 'Metro Manila'\n",
        "    elif 'Luzon' in info or 'luzon' in info:\n",
        "        return 'Luzon'\n",
        "    elif 'Visayas' in info or 'visayas' in info:\n",
        "        return 'Visayas'\n",
        "    elif 'Mindanao' in info or 'mindanao' in info:\n",
        "        return 'Mindanao'\n",
        "    else:\n",
        "        return 'inconclusive'"
      ],
      "execution_count": null,
      "outputs": []
    },
    {
      "cell_type": "code",
      "metadata": {
        "id": "tLUofk0Yj26N",
        "colab_type": "code",
        "colab": {}
      },
      "source": [
        "delivery_orders_march['buy_city'] = delivery_orders_march.buyeraddress.apply (lambda row: location(row))\n",
        "delivery_orders_march['sell_city'] = delivery_orders_march.selleraddress.apply (lambda row: location(row))"
      ],
      "execution_count": null,
      "outputs": []
    },
    {
      "cell_type": "code",
      "metadata": {
        "id": "cHTt-XA-3ldg",
        "colab_type": "code",
        "colab": {}
      },
      "source": [
        "delivery_orders_march['2nd_deliver_attempt'] = delivery_orders_march['2nd_deliver_attempt'].replace(np.nan, 0, regex=True)"
      ],
      "execution_count": null,
      "outputs": []
    },
    {
      "cell_type": "code",
      "metadata": {
        "id": "eCY5un3ymXOE",
        "colab_type": "code",
        "colab": {}
      },
      "source": [
        "delivery_orders_march['str_pick'] = delivery_orders_march['pick'].apply (lambda row: str_date(row))\n",
        "delivery_orders_march['str_1st_deliver_attempt'] = delivery_orders_march['1st_deliver_attempt'].apply (lambda row: str_date(row))\n",
        "delivery_orders_march['str_2nd_deliver_attempt'] = delivery_orders_march['2nd_deliver_attempt'].apply (lambda row: str_date(row))"
      ],
      "execution_count": null,
      "outputs": []
    },
    {
      "cell_type": "code",
      "metadata": {
        "id": "-WmEw9TQoE3u",
        "colab_type": "code",
        "colab": {}
      },
      "source": [
        "delivery_orders_march['SLA_1'] = np.busday_count(delivery_orders_march['str_pick'],\n",
        "                                     delivery_orders_march['str_1st_deliver_attempt'],\n",
        "                                     weekmask=[1,1,1,1,1,1,0],\n",
        "                                     holidays=['2020-03-08','2020-03-25','2020-03-30','2020-03-31'])"
      ],
      "execution_count": null,
      "outputs": []
    },
    {
      "cell_type": "code",
      "metadata": {
        "id": "q4wRbljuwEOU",
        "colab_type": "code",
        "colab": {}
      },
      "source": [
        "delivery_orders_march['SLA_2'] = np.busday_count(delivery_orders_march['str_1st_deliver_attempt'],\n",
        "                                     delivery_orders_march['str_2nd_deliver_attempt'],\n",
        "                                     weekmask=[1,1,1,1,1,1,0],\n",
        "                                     holidays=['2020-03-08','2020-03-25','2020-03-30','2020-03-31'])"
      ],
      "execution_count": null,
      "outputs": []
    },
    {
      "cell_type": "code",
      "metadata": {
        "id": "Mlu2cHUh6p9M",
        "colab_type": "code",
        "colab": {}
      },
      "source": [
        "slas = pd.DataFrame({'Origin': ['Metro Manila', 'Luzon', 'Visayas', 'Mindanao'],\n",
        "                     'Metro Manila': [3, 5, 7, 7],\n",
        "                     'Luzon': [5, 5, 7, 7],\n",
        "                     'Visayas': [7, 7, 7, 7],\n",
        "                     'Mindanao': [7, 7, 7, 7]})"
      ],
      "execution_count": null,
      "outputs": []
    },
    {
      "cell_type": "code",
      "metadata": {
        "id": "wYORVzAq6SDn",
        "colab_type": "code",
        "colab": {}
      },
      "source": [
        "def sla(row):\n",
        "    if row == 'Metro ManilaMetro Manila':\n",
        "        return 3\n",
        "    if row == 'Metro ManilaLuzon':\n",
        "        return 5\n",
        "    if row == 'LuzonMetro Manila':\n",
        "        return 5\n",
        "    if row == 'LuzonLuzon':\n",
        "        return 5\n",
        "    else:\n",
        "        return 7"
      ],
      "execution_count": null,
      "outputs": []
    },
    {
      "cell_type": "code",
      "metadata": {
        "id": "ePfXK7ns_bE-",
        "colab_type": "code",
        "colab": {}
      },
      "source": [
        "delivery_orders_march['combined'] = delivery_orders_march['buy_city'] + delivery_orders_march['sell_city']"
      ],
      "execution_count": null,
      "outputs": []
    },
    {
      "cell_type": "code",
      "metadata": {
        "id": "tL8wWSAJ7SzH",
        "colab_type": "code",
        "colab": {}
      },
      "source": [
        "delivery_orders_march['allowed_sla'] = delivery_orders_march['combined'].apply(sla)"
      ],
      "execution_count": null,
      "outputs": []
    },
    {
      "cell_type": "code",
      "metadata": {
        "id": "w6AgB7nrEUM8",
        "colab_type": "code",
        "colab": {}
      },
      "source": [
        "delivery_orders_march['SLA2'] = delivery_orders_march.SLA_2.apply(changeneg)"
      ],
      "execution_count": null,
      "outputs": []
    },
    {
      "cell_type": "code",
      "metadata": {
        "id": "EaY_LlOXENSU",
        "colab_type": "code",
        "colab": {}
      },
      "source": [
        "def changeneg(inp):\n",
        "    if inp<0:\n",
        "        return 0\n",
        "    else:\n",
        "        return inp"
      ],
      "execution_count": null,
      "outputs": []
    },
    {
      "cell_type": "code",
      "metadata": {
        "id": "Bzb1olmiEjBX",
        "colab_type": "code",
        "colab": {
          "base_uri": "https://localhost:8080/",
          "height": 530
        },
        "outputId": "038c01b8-e931-46d5-cdc6-8f6d615ed42c"
      },
      "source": [
        "delivery_orders_march.head()"
      ],
      "execution_count": null,
      "outputs": [
        {
          "output_type": "execute_result",
          "data": {
            "text/html": [
              "<div>\n",
              "<style scoped>\n",
              "    .dataframe tbody tr th:only-of-type {\n",
              "        vertical-align: middle;\n",
              "    }\n",
              "\n",
              "    .dataframe tbody tr th {\n",
              "        vertical-align: top;\n",
              "    }\n",
              "\n",
              "    .dataframe thead th {\n",
              "        text-align: right;\n",
              "    }\n",
              "</style>\n",
              "<table border=\"1\" class=\"dataframe\">\n",
              "  <thead>\n",
              "    <tr style=\"text-align: right;\">\n",
              "      <th></th>\n",
              "      <th>orderid</th>\n",
              "      <th>pick</th>\n",
              "      <th>1st_deliver_attempt</th>\n",
              "      <th>2nd_deliver_attempt</th>\n",
              "      <th>buyeraddress</th>\n",
              "      <th>selleraddress</th>\n",
              "      <th>buy_city</th>\n",
              "      <th>sell_city</th>\n",
              "      <th>str_pick</th>\n",
              "      <th>str_1st_deliver_attempt</th>\n",
              "      <th>str_2nd_deliver_attempt</th>\n",
              "      <th>SLA_1</th>\n",
              "      <th>SLA_2</th>\n",
              "      <th>combined</th>\n",
              "      <th>allowed_sla</th>\n",
              "      <th>SLA2</th>\n",
              "    </tr>\n",
              "  </thead>\n",
              "  <tbody>\n",
              "    <tr>\n",
              "      <th>0</th>\n",
              "      <td>2215676524</td>\n",
              "      <td>1583138397</td>\n",
              "      <td>1.583385e+09</td>\n",
              "      <td>0.000000e+00</td>\n",
              "      <td>Baging ldl BUENAVISTA,PATAG.CAGAYAN Buagsong,c...</td>\n",
              "      <td>Pantranco vill. 417 Warehouse# katipunan 532 (...</td>\n",
              "      <td>Metro Manila</td>\n",
              "      <td>Metro Manila</td>\n",
              "      <td>2020-03-02</td>\n",
              "      <td>2020-03-05</td>\n",
              "      <td>1970-01-01</td>\n",
              "      <td>3</td>\n",
              "      <td>-15708</td>\n",
              "      <td>Metro ManilaMetro Manila</td>\n",
              "      <td>3</td>\n",
              "      <td>0</td>\n",
              "    </tr>\n",
              "    <tr>\n",
              "      <th>1</th>\n",
              "      <td>2219624609</td>\n",
              "      <td>1583309968</td>\n",
              "      <td>1.583463e+09</td>\n",
              "      <td>1.583799e+09</td>\n",
              "      <td>coloma's quzom CASANAS Site1 Masiyan 533A Stol...</td>\n",
              "      <td>BLDG 210A Moras C42B 2B16,168 church) Complex ...</td>\n",
              "      <td>Metro Manila</td>\n",
              "      <td>Metro Manila</td>\n",
              "      <td>2020-03-04</td>\n",
              "      <td>2020-03-06</td>\n",
              "      <td>2020-03-10</td>\n",
              "      <td>2</td>\n",
              "      <td>3</td>\n",
              "      <td>Metro ManilaMetro Manila</td>\n",
              "      <td>3</td>\n",
              "      <td>3</td>\n",
              "    </tr>\n",
              "    <tr>\n",
              "      <th>2</th>\n",
              "      <td>2220979489</td>\n",
              "      <td>1583306434</td>\n",
              "      <td>1.583460e+09</td>\n",
              "      <td>0.000000e+00</td>\n",
              "      <td>21-O LumangDaan,Capitangan,Abucay,Bataan .Bign...</td>\n",
              "      <td>#66 150-C, DRIVE, Milagros Joe socorro Metro M...</td>\n",
              "      <td>Metro Manila</td>\n",
              "      <td>Metro Manila</td>\n",
              "      <td>2020-03-04</td>\n",
              "      <td>2020-03-06</td>\n",
              "      <td>1970-01-01</td>\n",
              "      <td>2</td>\n",
              "      <td>-15709</td>\n",
              "      <td>Metro ManilaMetro Manila</td>\n",
              "      <td>3</td>\n",
              "      <td>0</td>\n",
              "    </tr>\n",
              "    <tr>\n",
              "      <th>3</th>\n",
              "      <td>2221066352</td>\n",
              "      <td>1583419016</td>\n",
              "      <td>1.583556e+09</td>\n",
              "      <td>0.000000e+00</td>\n",
              "      <td>616Espiritu MARTINVILLE,MANUYO #5paraiso kengi...</td>\n",
              "      <td>999maII 201,26 Villaruel Barretto gen.t number...</td>\n",
              "      <td>Metro Manila</td>\n",
              "      <td>Metro Manila</td>\n",
              "      <td>2020-03-05</td>\n",
              "      <td>2020-03-07</td>\n",
              "      <td>1970-01-01</td>\n",
              "      <td>2</td>\n",
              "      <td>-15710</td>\n",
              "      <td>Metro ManilaMetro Manila</td>\n",
              "      <td>3</td>\n",
              "      <td>0</td>\n",
              "    </tr>\n",
              "    <tr>\n",
              "      <th>4</th>\n",
              "      <td>2222478803</td>\n",
              "      <td>1583318305</td>\n",
              "      <td>1.583480e+09</td>\n",
              "      <td>0.000000e+00</td>\n",
              "      <td>L042 Summerbreezee1 L2(Balanay analyn Lot760 C...</td>\n",
              "      <td>G66MANILA Hiyas Fitness MAYSILO magdiwang Lt.4...</td>\n",
              "      <td>Luzon</td>\n",
              "      <td>Metro Manila</td>\n",
              "      <td>2020-03-04</td>\n",
              "      <td>2020-03-06</td>\n",
              "      <td>1970-01-01</td>\n",
              "      <td>2</td>\n",
              "      <td>-15709</td>\n",
              "      <td>LuzonMetro Manila</td>\n",
              "      <td>5</td>\n",
              "      <td>0</td>\n",
              "    </tr>\n",
              "  </tbody>\n",
              "</table>\n",
              "</div>"
            ],
            "text/plain": [
              "      orderid        pick  ...  allowed_sla  SLA2\n",
              "0  2215676524  1583138397  ...            3     0\n",
              "1  2219624609  1583309968  ...            3     3\n",
              "2  2220979489  1583306434  ...            3     0\n",
              "3  2221066352  1583419016  ...            3     0\n",
              "4  2222478803  1583318305  ...            5     0\n",
              "\n",
              "[5 rows x 16 columns]"
            ]
          },
          "metadata": {
            "tags": []
          },
          "execution_count": 206
        }
      ]
    },
    {
      "cell_type": "code",
      "metadata": {
        "id": "rNY5XPJuAAfZ",
        "colab_type": "code",
        "colab": {}
      },
      "source": [
        "def check_late(row):\n",
        "    if row.SLA_1 <= row.allowed_sla and row.SLA2 <= 3 and row.SLA2 != 0:\n",
        "        return 0\n",
        "    else:\n",
        "        return 1"
      ],
      "execution_count": null,
      "outputs": []
    },
    {
      "cell_type": "code",
      "metadata": {
        "id": "NmReRk6P95T_",
        "colab_type": "code",
        "colab": {}
      },
      "source": [
        "delivery_orders_march['is_late'] = delivery_orders_march.apply(check_late, axis=1)"
      ],
      "execution_count": null,
      "outputs": []
    },
    {
      "cell_type": "code",
      "metadata": {
        "id": "dwUmpQiV-Rg_",
        "colab_type": "code",
        "colab": {}
      },
      "source": [
        "forsub = delivery_orders_march[['orderid', 'is_late']].copy()"
      ],
      "execution_count": null,
      "outputs": []
    },
    {
      "cell_type": "code",
      "metadata": {
        "id": "M4A7QwoVFa0p",
        "colab_type": "code",
        "colab": {}
      },
      "source": [
        "forsub.to_csv('submission.csv', index=False)"
      ],
      "execution_count": null,
      "outputs": []
    },
    {
      "cell_type": "code",
      "metadata": {
        "id": "0PujYpD6ArmZ",
        "colab_type": "code",
        "colab": {}
      },
      "source": [
        "forsub"
      ],
      "execution_count": null,
      "outputs": []
    },
    {
      "cell_type": "code",
      "metadata": {
        "id": "9hTNwxZVA7K4",
        "colab_type": "code",
        "colab": {}
      },
      "source": [
        "!kaggle competitions submit -c open-shopee-code-league-logistic -f submission.csv -m \"Message\""
      ],
      "execution_count": null,
      "outputs": []
    }
  ]
}